{
 "cells": [
  {
   "cell_type": "code",
   "execution_count": 1,
   "metadata": {},
   "outputs": [],
   "source": [
    "import numpy as np\n",
    "import pandas as pd\n",
    "import os\n",
    "from scipy.io import loadmat\n",
    "import scipy.io as sio\n",
    "from sklearn.utils import shuffle \n",
    "import matplotlib.pyplot as plt\n"
   ]
  },
  {
   "cell_type": "code",
   "execution_count": 2,
   "metadata": {},
   "outputs": [
    {
     "name": "stdout",
     "output_type": "stream",
     "text": [
      "265\n"
     ]
    }
   ],
   "source": [
    "# Path to the folder containing the mat files\n",
    "mat_folder = \"E:/STUDY/Publications/Thesis/Brain Emotion Detection/Dataset/Practice with datasets/Seed/ExtractedFeatures\"\n",
    "\n",
    "# Initialize arrays to store data sizes and maximum size\n",
    "sizes = []\n",
    "max_vals = 0\n",
    "\n",
    "# Loop through all files in the folder\n",
    "for filename in os.listdir(mat_folder):\n",
    "    if filename.endswith(\".mat\"):\n",
    "        mat_file = os.path.join(mat_folder, filename)\n",
    "        loaded_data = loadmat(mat_file)\n",
    "        # Loop through the variables in the loaded file\n",
    "        for var_name in loaded_data:\n",
    "            # Check if the variable name starts with 'de_LDS'\n",
    "            if var_name.startswith('de_LDS') and isinstance(loaded_data[var_name], np.ndarray) and len(loaded_data[var_name].shape) == 3:\n",
    "                sizes.append(loaded_data[var_name].shape[1])\n",
    "                max_vals = max(max_vals, loaded_data[var_name].shape[1])\n",
    "\n",
    "print(max_vals)"
   ]
  },
  {
   "cell_type": "code",
   "execution_count": 3,
   "metadata": {},
   "outputs": [
    {
     "name": "stdout",
     "output_type": "stream",
     "text": [
      "Shape of data array: (30, 62, 265, 5)\n"
     ]
    }
   ],
   "source": [
    "\n",
    "\n",
    "# Calculate the total number of trials\n",
    "total_trials = 30\n",
    "\n",
    "# Initialize the data array\n",
    "data = np.zeros((total_trials, 62, max_vals, 5))\n",
    "\n",
    "# Loop through all files and variables again to load data\n",
    "index = 0\n",
    "for filename in os.listdir(mat_folder):\n",
    "    if filename.endswith(\".mat\"):\n",
    "        mat_file = os.path.join(mat_folder, filename)\n",
    "        loaded_data = loadmat(mat_file)\n",
    "        \n",
    "        for var_name in loaded_data:\n",
    "            # Check if the variable name starts with 'de_LDS'\n",
    "            if var_name.startswith('de_LDS') and isinstance(loaded_data[var_name], np.ndarray) and len(loaded_data[var_name].shape) == 3:\n",
    "                num_channels = loaded_data[var_name].shape[0]\n",
    "                num_elements = loaded_data[var_name].shape[1]\n",
    "                data[index, :num_channels, :num_elements, :] = loaded_data[var_name]\n",
    "                index += 1\n",
    "\n",
    "# Print the shape of the data array\n",
    "print(\"Shape of data array:\", data.shape)\n"
   ]
  },
  {
   "cell_type": "code",
   "execution_count": 7,
   "metadata": {},
   "outputs": [
    {
     "name": "stdout",
     "output_type": "stream",
     "text": [
      "23.022771998280515\n"
     ]
    }
   ],
   "source": [
    "print(np.mean(data[0,:,:,0]))"
   ]
  }
 ],
 "metadata": {
  "kernelspec": {
   "display_name": "thesis_code_practice",
   "language": "python",
   "name": "python3"
  },
  "language_info": {
   "codemirror_mode": {
    "name": "ipython",
    "version": 3
   },
   "file_extension": ".py",
   "mimetype": "text/x-python",
   "name": "python",
   "nbconvert_exporter": "python",
   "pygments_lexer": "ipython3",
   "version": "3.10.6"
  }
 },
 "nbformat": 4,
 "nbformat_minor": 2
}
